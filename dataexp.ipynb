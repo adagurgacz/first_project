{
 "cells": [
  {
   "cell_type": "markdown",
   "metadata": {},
   "source": [
    "# 20171025 - My data exploration lab notes"
   ]
  },
  {
   "cell_type": "markdown",
   "metadata": {},
   "source": [
    "# Code Like a Pythonista"
   ]
  },
  {
   "cell_type": "markdown",
   "metadata": {},
   "source": [
    "### Iterating over list/set/dict"
   ]
  },
  {
   "cell_type": "code",
   "execution_count": 4,
   "metadata": {},
   "outputs": [
    {
     "name": "stdout",
     "output_type": "stream",
     "text": [
      "dog\n",
      "cat\n",
      "fish\n",
      "mongyfuy\n"
     ]
    }
   ],
   "source": [
    "# Iterating over set\n",
    "animals = {'cat', 'dog', 'fish', 'mongyfuy'}\n",
    "for animal in animals:\n",
    "    print('{}'.format(animal))"
   ]
  },
  {
   "cell_type": "code",
   "execution_count": 5,
   "metadata": {},
   "outputs": [
    {
     "name": "stdout",
     "output_type": "stream",
     "text": [
      "0: dog\n",
      "1: cat\n",
      "2: fish\n",
      "3: monkey\n"
     ]
    }
   ],
   "source": [
    "# Iterating over set (and generating an index)\n",
    "animals = {'cat', 'dog', 'fish', 'monkey'}\n",
    "for idx, animal in enumerate(animals):\n",
    "    print('{}: {}'.format(idx,animal))"
   ]
  },
  {
   "cell_type": "markdown",
   "metadata": {},
   "source": [
    "### List/Set/Dict Comprehensions\n",
    "\n",
    "Python supports list comprehensions, that can be used to construct lists in a very natural way, similar to mathematic construction.\n",
    "\n",
    "\n",
    "[ output_expression() for(set of values to iterate) if(conditional filtering) ]\n"
   ]
  },
  {
   "cell_type": "code",
   "execution_count": 3,
   "metadata": {},
   "outputs": [
    {
     "name": "stdout",
     "output_type": "stream",
     "text": [
      "[0, 1, 4, 9, 16, 25, 36, 49, 64, 81]\n",
      "[0, 4, 16, 36, 64]\n",
      "{0, 1, 2, 3, 4, 5, 6, 7, 8, 9}\n",
      "{'a': 17, 'b': 34, 'z': 3}\n",
      "{'Alice', 'John', 'Bob'}\n",
      "[[1, 0, 0], [0, 1, 0], [0, 0, 1]]\n"
     ]
    }
   ],
   "source": [
    "#List comprehension\n",
    "list1 = [x**2 for x in range(10)]\n",
    "print(list1)\n",
    "\n",
    "list2 = [x for x in list1 if x % 2 == 0]\n",
    "print(list2)\n",
    "\n",
    "#Set comprehension\n",
    "nums = {x for x in range(10)}\n",
    "print(nums)  # Prints \"{0, 1, 2, 3, 4, 5}\"\n",
    "\n",
    "#Dict comprehension\n",
    "mcase = {'a':10, 'b': 34, 'A': 7, 'Z':3}\n",
    "mcase_frequency = { k.lower() : mcase.get(k.lower(), 0) + mcase.get(k.upper(), 0) for k in mcase.keys() }\n",
    "print(mcase_frequency)\n",
    "\n",
    "#Set comprehension from list\n",
    "names = [ 'Bob', 'JOHN', 'alice', 'bob', 'ALICE', 'J', 'Bob' ]\n",
    "names_set = { name[0].upper() + name[1:].lower() for name in names if len(name) > 1 }\n",
    "print(names_set)\n",
    "\n",
    "#Nested list comprehension\n",
    "matrix = [ [ 1 if item_idx == row_idx else 0 for item_idx in range(0, 3) ] for row_idx in range(0, 3) ]\n",
    "print(matrix)"
   ]
  },
  {
   "cell_type": "markdown",
   "metadata": {},
   "source": [
    "### The power of comprehension"
   ]
  },
  {
   "cell_type": "code",
   "execution_count": 4,
   "metadata": {},
   "outputs": [
    {
     "name": "stdout",
     "output_type": "stream",
     "text": [
      "[2, 6, 10, 14, 18, 22, 26, 30, 34, 38]\n",
      "[2, 6, 10, 14, 18, 22, 26, 30, 34, 38]\n"
     ]
    }
   ],
   "source": [
    "numbers = range(20)\n",
    "\n",
    "numbers_doubled_odds = []\n",
    "for n in numbers:\n",
    "    if n%2 == 1:\n",
    "        numbers_doubled_odds.append(n*2)\n",
    "        \n",
    "print(numbers_doubled_odds)\n",
    "\n",
    "#vs\n",
    "\n",
    "numbers_doubled_odds = [n*2 for n in numbers if n%2==1]\n",
    "print(numbers_doubled_odds)"
   ]
  },
  {
   "cell_type": "code",
   "execution_count": 5,
   "metadata": {},
   "outputs": [
    {
     "name": "stdout",
     "output_type": "stream",
     "text": [
      "[2, 3, 5, 7, 11, 13, 17, 19, 23, 29, 31, 37, 41, 43, 47, 53, 59, 61, 67, 71, 73, 79, 83, 89, 97]\n"
     ]
    }
   ],
   "source": [
    "# Calculating prime numbers\n",
    "noprimes = [j for i in range(2, 8) for j in range(i*2, 100, i)]\n",
    "primes = [x for x in range(2, 100) if x not in noprimes]\n",
    "print(primes)"
   ]
  },
  {
   "cell_type": "markdown",
   "metadata": {},
   "source": [
    "# Basic Numpy data structures"
   ]
  },
  {
   "cell_type": "code",
   "execution_count": 7,
   "metadata": {},
   "outputs": [
    {
     "name": "stdout",
     "output_type": "stream",
     "text": [
      "Data in arr1D:\n",
      " [ 1  2  3  4  5  6  7  8  9 10]\n"
     ]
    },
    {
     "data": {
      "text/plain": [
       "array([ 1,  2,  3,  4,  5,  6,  7,  8,  9, 10])"
      ]
     },
     "execution_count": 7,
     "metadata": {},
     "output_type": "execute_result"
    }
   ],
   "source": [
    "import numpy as np\n",
    "\n",
    "array1D = np.array([1,2,3,4,5,6,7,8, 9, 10])\n",
    "\n",
    "#Standard print\n",
    "print('Data in arr1D:\\n', array1D)\n",
    "\n",
    "#The last line is evaluated\n",
    "array1D"
   ]
  },
  {
   "cell_type": "code",
   "execution_count": 9,
   "metadata": {},
   "outputs": [
    {
     "name": "stdout",
     "output_type": "stream",
     "text": [
      "Data in arr2D:\n",
      " [[1 2 3 4]\n",
      " [5 6 7 8]]\n"
     ]
    },
    {
     "data": {
      "text/plain": [
       "array([[1, 2, 3, 4],\n",
       "       [5, 6, 7, 8]])"
      ]
     },
     "execution_count": 9,
     "metadata": {},
     "output_type": "execute_result"
    }
   ],
   "source": [
    "array2D = np.array([[1,2,3,4],[5,6,7,8]])\n",
    "\n",
    "print('Data in arr2D:\\n', array2D)\n",
    "\n",
    "array2D"
   ]
  },
  {
   "cell_type": "code",
   "execution_count": 10,
   "metadata": {},
   "outputs": [
    {
     "name": "stdout",
     "output_type": "stream",
     "text": [
      "[[1 2 3 4]\n",
      " [5 6 7 8]]\n",
      "[[2 3]\n",
      " [6 7]]\n"
     ]
    }
   ],
   "source": [
    "# Slicing works the same as in standard Python\n",
    "\n",
    "array2D = np.array([[1,2,3,4],[5,6,7,8]])\n",
    "print(array2D)\n",
    "\n",
    "mini_array2D = array2D[:2, 1:3]\n",
    "print(mini_array2D)"
   ]
  },
  {
   "cell_type": "markdown",
   "metadata": {},
   "source": [
    "## Creating arrays"
   ]
  },
  {
   "cell_type": "code",
   "execution_count": 11,
   "metadata": {},
   "outputs": [
    {
     "name": "stdout",
     "output_type": "stream",
     "text": [
      "[[ 0.  0.  0.  0.]\n",
      " [ 0.  0.  0.  0.]]\n",
      "[[ 1.  1.  1.  1.]\n",
      " [ 1.  1.  1.  1.]]\n",
      "[[ 0.8  0.8  0.8  0.8]\n",
      " [ 0.8  0.8  0.8  0.8]]\n",
      "[[ 0.45911253  0.3142461   0.72713672  0.26201624]\n",
      " [ 0.54182274  0.85319636  0.0262966   0.72898172]]\n",
      "<class 'numpy.ndarray'>\n",
      "(2, 4)\n"
     ]
    }
   ],
   "source": [
    "array2D = np.zeros((2,4))\n",
    "print(array2D)\n",
    "\n",
    "array2D = np.ones((2,4))\n",
    "print(array2D)\n",
    "\n",
    "array2D = np.full((2,4),0.8)\n",
    "print(array2D)\n",
    "\n",
    "array2D = np.random.random((2,4))\n",
    "print(array2D)\n",
    "\n",
    "print(type(array2D))\n",
    "print(array2D.shape)"
   ]
  },
  {
   "cell_type": "markdown",
   "metadata": {},
   "source": [
    "## Changing the shape of arrays"
   ]
  },
  {
   "cell_type": "code",
   "execution_count": 12,
   "metadata": {},
   "outputs": [
    {
     "name": "stdout",
     "output_type": "stream",
     "text": [
      "[ 0  1  2  3  4  5  6  7  8  9 10 11] \n",
      "\n",
      "[[ 0  1  2  3  4  5]\n",
      " [ 6  7  8  9 10 11]] \n",
      "\n",
      "[[ 0  1]\n",
      " [ 2  3]\n",
      " [ 4  5]\n",
      " [ 6  7]\n",
      " [ 8  9]\n",
      " [10 11]] \n",
      "\n",
      "[[[ 0  1  2]\n",
      "  [ 3  4  5]]\n",
      "\n",
      " [[ 6  7  8]\n",
      "  [ 9 10 11]]] \n",
      "\n",
      "[[[ 0  1]\n",
      "  [ 2  3]]\n",
      "\n",
      " [[ 4  5]\n",
      "  [ 6  7]]\n",
      "\n",
      " [[ 8  9]\n",
      "  [10 11]]] \n",
      "\n"
     ]
    }
   ],
   "source": [
    "array1D = np.arange(12)\n",
    "print(array1D,'\\n')\n",
    "\n",
    "array2D = array1D.reshape(2,6) \n",
    "print(array2D,'\\n')\n",
    "\n",
    "array2D = array1D.reshape(6,2) \n",
    "print(array2D,'\\n')\n",
    "\n",
    "array3D = array1D.reshape(2,2,3) \n",
    "print(array3D,'\\n')\n",
    "\n",
    "array3D = array1D.reshape(3,2,2) \n",
    "print(array3D,'\\n')"
   ]
  },
  {
   "cell_type": "markdown",
   "metadata": {},
   "source": [
    "## Statistics"
   ]
  },
  {
   "cell_type": "code",
   "execution_count": 8,
   "metadata": {},
   "outputs": [
    {
     "name": "stdout",
     "output_type": "stream",
     "text": [
      "\n",
      " Numpy 2-dim array\n",
      "[[ 0.50359037 -0.47581246  0.52083247  0.76979137  0.42754577]\n",
      " [ 1.17612413  0.46325824 -0.99476962  0.49481781  0.63737661]\n",
      " [ 0.6395992   1.18121915 -1.19970564 -0.45213891  0.14655369]\n",
      " [ 0.27291229  0.80410818 -2.11626059  1.53696457  0.85564258]\n",
      " [-1.4465979  -2.0098809  -1.92964921  0.16441025  0.7563014 ]\n",
      " [ 1.18989185 -1.70916429 -0.9439468  -0.52885655 -1.8403262 ]\n",
      " [-0.13193545 -0.62652154 -1.37810246 -0.38948746  1.10836653]]\n",
      "\n",
      " Standard deviation of array\n",
      "1.05536403896\n"
     ]
    }
   ],
   "source": [
    "import numpy as np\n",
    "print('\\n Numpy 2-dim array')\n",
    "tab10n5 = np.random.randn(7,5)\n",
    "\n",
    "print(tab10n5)\n",
    "print('\\n Standard deviation of array')\n",
    "print(np.std(tab10n5))"
   ]
  },
  {
   "cell_type": "code",
   "execution_count": 16,
   "metadata": {},
   "outputs": [
    {
     "name": "stdout",
     "output_type": "stream",
     "text": [
      "\n",
      " mediana:\n",
      "0.164410249438\n",
      "\n",
      " srednia:\n",
      "-0.129252843287\n"
     ]
    }
   ],
   "source": [
    "#TODO Statistics functions\n",
    "print('\\n mediana:')\n",
    "print(np.median(tab10n5))\n",
    "print('\\n srednia:')\n",
    "print(np.average(tab10n5))"
   ]
  },
  {
   "cell_type": "markdown",
   "metadata": {},
   "source": [
    "## Stacking together different arrays\n",
    "\n",
    "Take a quick look at [tutorial](https://docs.scipy.org/doc/numpy-dev/user/quickstart.html)\n",
    "and fill the next cell\n"
   ]
  },
  {
   "cell_type": "code",
   "execution_count": 13,
   "metadata": {},
   "outputs": [
    {
     "data": {
      "text/plain": [
       "array([[1, 2, 3],\n",
       "       [2, 3, 4]])"
      ]
     },
     "execution_count": 13,
     "metadata": {},
     "output_type": "execute_result"
    }
   ],
   "source": [
    "#TODO stacking arrays\n",
    "import numpy as np\n",
    "a = np.array([1, 2, 3])\n",
    "b = np.array([2, 3, 4])\n",
    "np.vstack((a,b))\n"
   ]
  },
  {
   "cell_type": "markdown",
   "metadata": {},
   "source": [
    "## Plotting"
   ]
  },
  {
   "cell_type": "code",
   "execution_count": 14,
   "metadata": {},
   "outputs": [
    {
     "data": {
      "image/png": "[encoded data removed]",
      "text/plain": [
       "<matplotlib.figure.Figure at 0x7f5fdde4d438>"
      ]
     },
     "metadata": {},
     "output_type": "display_data"
    }
   ],
   "source": [
    "%matplotlib inline\n",
    "\n",
    "import numpy as np\n",
    "import matplotlib.pyplot as plt\n",
    "\n",
    "x = np.linspace(0, 3*np.pi, 50)\n",
    "plt.plot(x, np.sin(x**2))\n",
    "plt.title('A simple chirp');"
   ]
  },
  {
   "cell_type": "markdown",
   "metadata": {},
   "source": [
    "## Importing data"
   ]
  },
  {
   "cell_type": "code",
   "execution_count": 18,
   "metadata": {},
   "outputs": [
    {
     "name": "stdout",
     "output_type": "stream",
     "text": [
      "[[      nan  7363000.  7736000.  7864000.  7984000.  8121000.  8233000.\n",
      "   8330000.  8441000.]\n",
      " [      nan  5187000.  5171000.  5199000.  5243000.  5176000.  5270000.\n",
      "   5337000.  5359000.]\n",
      " [      nan   191000.   209000.   229000.   272000.   277000.   285000.\n",
      "    279000.   290000.]\n",
      " [      nan    47000.   113000.   111000.   127000.   151000.   145000.\n",
      "    143000.   178000.]\n",
      " [      nan    56000.    97000.    85000.    91000.   104000.   123000.\n",
      "    135000.   134000.]]\n"
     ]
    }
   ],
   "source": [
    "import csv\n",
    "import numpy as np\n",
    "\n",
    "data = np.genfromtxt('country-of-birth-london-min.csv', skip_header=1, delimiter=';')\n",
    "print(data[:5,:])"
   ]
  },
  {
   "cell_type": "code",
   "execution_count": 17,
   "metadata": {},
   "outputs": [
    {
     "name": "stdout",
     "output_type": "stream",
     "text": [
      "[['Country']\n",
      " ['Total']\n",
      " ['United Kingdom']\n",
      " ['India']\n",
      " ['Poland']]\n"
     ]
    }
   ],
   "source": [
    "raw_data = np.genfromtxt('country-of-birth-london-min.csv', delimiter=';', dtype=None)\n",
    "names = raw_data[:5,:1].astype(str)\n",
    "print(names)"
   ]
  },
  {
   "cell_type": "code",
   "execution_count": 44,
   "metadata": {},
   "outputs": [
    {
     "name": "stdout",
     "output_type": "stream",
     "text": [
      "[[ 7363000.  7736000.  7864000.  7984000.  8121000.  8233000.  8330000.\n",
      "   8441000.]\n",
      " [ 5187000.  5171000.  5199000.  5243000.  5176000.  5270000.  5337000.\n",
      "   5359000.]\n",
      " [  191000.   209000.   229000.   272000.   277000.   285000.   279000.\n",
      "    290000.]\n",
      " [   47000.   113000.   111000.   127000.   151000.   145000.   143000.\n",
      "    178000.]\n",
      " [   56000.    97000.    85000.    91000.   104000.   123000.   135000.\n",
      "    134000.]]\n",
      "------------\n",
      "8052500.0\n",
      "8009000.0\n",
      "------------\n",
      "5221000.0\n",
      "5242750.0\n",
      "------------\n",
      "274500.0\n",
      "254000.0\n",
      "------------\n",
      "135000.0\n",
      "126875.0\n",
      "------------\n",
      "100500.0\n",
      "103125.0\n"
     ]
    }
   ],
   "source": [
    "#TODO - Calculate summary statistics\n",
    "data = np.genfromtxt('country-of-birth-london-min.csv', skip_header=1, delimiter=';', usecols = (range(1,9)))\n",
    "data = data [:5,:]\n",
    "print(data)\n",
    "for el in data:\n",
    "    print ('------------')\n",
    "    print(np.median(el))\n",
    "    print(np.average(el))"
   ]
  },
  {
   "cell_type": "code",
   "execution_count": null,
   "metadata": {
    "collapsed": true
   },
   "outputs": [],
   "source": [
    "#TODO - Visualize summary using matplotlib charts\n",
    "%matplotlib inline\n",
    "\n",
    "import numpy as np\n",
    "import matplotlib.pyplot as plt\n",
    "\n",
    "data = np.genfromtxt('country-of-birth-london-min.csv', skip_header=1, delimiter=';', usecols = (range(1,9)))\n",
    "data = data [4,:]\n",
    "print (data)\n",
    "x = data\n",
    "plt.plot(data)\n",
    "plt.title('Pakistan');\n"
   ]
  },
  {
   "cell_type": "markdown",
   "metadata": {
    "collapsed": true
   },
   "source": [
    "# Miniproject - data exploration\n",
    "\n",
    "[Global Terrorism Database](https://www.kaggle.com/START-UMD/gtd)"
   ]
  },
  {
   "cell_type": "code",
   "execution_count": 19,
   "metadata": {
    "collapsed": true
   },
   "outputs": [],
   "source": [
    "# Instructions will be given during lab"
   ]
  },
  {
   "cell_type": "code",
   "execution_count": 14,
   "metadata": {},
   "outputs": [
    {
     "data": {
      "image/png": "[encoded data removed]",
      "text/plain": [
       "<matplotlib.figure.Figure at 0x1b0c86b4d68>"
      ]
     },
     "metadata": {},
     "output_type": "display_data"
    },
    {
     "data": {
      "image/png": "[encoded data removed]",
      "text/plain": [
       "<matplotlib.figure.Figure at 0x1b0c9549208>"
      ]
     },
     "metadata": {},
     "output_type": "display_data"
    },
    {
     "data": {
      "image/png": "[encoded data removed]",
      "text/plain": [
       "<matplotlib.figure.Figure at 0x1b0ca877240>"
      ]
     },
     "metadata": {},
     "output_type": "display_data"
    },
    {
     "data": {
      "image/png": "[encoded data removed]",
      "text/plain": [
       "<matplotlib.figure.Figure at 0x1b0c84f0908>"
      ]
     },
     "metadata": {},
     "output_type": "display_data"
    },
    {
     "data": {
      "image/png": "[encoded data removed]",
      "text/plain": [
       "<matplotlib.figure.Figure at 0x1b0c84b57b8>"
      ]
     },
     "metadata": {},
     "output_type": "display_data"
    }
   ],
   "source": [
    "%matplotlib inline\n",
    "\n",
    "import numpy as np\n",
    "import matplotlib.pyplot as plt\n",
    "\n",
    "data = np.genfromtxt('globalterrorismdb_0617dist.csv', skip_header=1, delimiter=';', usecols = (1,2,3,7,9))\n",
    "country = np.genfromtxt('globalterrorismdb_0617dist.csv', skip_header=1, delimiter=';', usecols = 8, dtype = None)\n",
    "country = country.astype(str)\n",
    "\n",
    "year = data [:,0]\n",
    "month = data [:,1]\n",
    "day = data [:,2]\n",
    "country_id = data [:,3]\n",
    "region = data [:,4]\n",
    "\n",
    "\n",
    "years = np.linspace(1970, 2020, 50)\n",
    "plt.hist(year, years,facecolor='g')\n",
    "plt.xlabel('Rok')\n",
    "plt.ylabel('Ilosc zmachow')\n",
    "plt.title('Zamachy w danym roku')\n",
    "plt.axis([1970, 2016, 0, 18000])\n",
    "plt.grid(True)\n",
    "plt.show()\n",
    "\n",
    "years = np.linspace(2000, 2020, 20)\n",
    "plt.hist(year, years,facecolor='g')\n",
    "plt.xlabel('Rok')\n",
    "plt.ylabel('Ilosc zmachow')\n",
    "plt.title('Wzrost liczby zamachow w ostatnich latach')\n",
    "plt.axis([2000, 2016, 0, 18000])\n",
    "plt.grid(True)\n",
    "plt.show()\n",
    "\n",
    "months = np.linspace(1,12,24)\n",
    "plt.hist(month, months,facecolor='r')\n",
    "plt.xlabel('Miesiac')\n",
    "plt.ylabel('Ilosc zmachow')\n",
    "plt.title('Zamachy w danym miesiacu')\n",
    "plt.axis([1, 12, 0, 20000])\n",
    "plt.grid(True)\n",
    "plt.show()\n",
    "\n",
    "days = np.linspace(1,31,62)\n",
    "plt.hist(day, days, facecolor='y')\n",
    "plt.xlabel('Dzien')\n",
    "plt.ylabel('Ilosc zmachow')\n",
    "plt.title('Zamachy w danym dniu miesiaca')\n",
    "plt.axis([1, 31, 0, 7500])\n",
    "plt.grid(True)\n",
    "plt.show()\n",
    "\n",
    "#regions = {'North America','Central America & Carribean','South America','East Asia','Southeast Asia','South Asia','7','Western Europe','Eastern Europe','Middle East & North Africa','Sub-Saharan Africa'}\n",
    "regions = np.linspace(1,11,22)\n",
    "plt.hist(region, regions, facecolor='b')\n",
    "plt.xlabel('Region')\n",
    "plt.ylabel('Ilosc zmachow')\n",
    "plt.title('Zamachy w danym regionie')\n",
    "plt.axis([1, 11, 0, 50000])\n",
    "plt.grid(True)\n",
    "plt.show()\n"
   ]
  },
  {
   "cell_type": "code",
   "execution_count": null,
   "metadata": {
    "collapsed": true
   },
   "outputs": [],
   "source": []
  }
 ],
 "metadata": {
  "kernelspec": {
   "display_name": "Python 3",
   "language": "python",
   "name": "python3"
  },
  "language_info": {
   "codemirror_mode": {
    "name": "ipython",
    "version": 3
   },
   "file_extension": ".py",
   "mimetype": "text/x-python",
   "name": "python",
   "nbconvert_exporter": "python",
   "pygments_lexer": "ipython3",
   "version": "3.6.3"
  }
 },
 "nbformat": 4,
 "nbformat_minor": 1
}
